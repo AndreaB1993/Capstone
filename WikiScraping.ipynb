{
 "cells": [
  {
   "cell_type": "code",
   "execution_count": 87,
   "id": "e9f6e8b5-e5a8-4fec-bdf1-97f8c121a415",
   "metadata": {
    "tags": []
   },
   "outputs": [],
   "source": [
    "import pandas as pd\n",
    "import html5lib \n",
    "import datetime as dt\n",
    "\n",
    "luoghi = [\"Tokyo\", \"Boston\", \"London\",\"Berlin\",\"Chicago\",\"New_York_City\"]\n",
    "Marathons=[]\n",
    "\n",
    "for luogo in luoghi: #Creo la lista di maratone necessaria per poter effettuare lo scraping\n",
    "    for year in range(2013,2024):\n",
    "        Marathons.append(f\"{year}_{luogo}_Marathon\")\n",
    "\n",
    "Deleted_Marathons = [\"2020_Boston_Marathon\", \"2020_Berlin_Marathon\", \"2020_New_York_City_Marathon\", \"2020_Chicago_Marathon\",\"2020_Tokyo_Marathon\", \"2014_Boston_Marathon\"] \n",
    "#In questa lista sono inserite alcune maratone non disputate o che presentavano problemi nello scraping\n",
    "\n",
    "for race in Deleted_Marathons: #Rimuovo le corse non presenti\n",
    "        Marathons.remove(race)\n",
    "        \n",
    "#print(Marathons)\n",
    "        \n",
    "for marathon in Marathons: #con questo ciclo scansiono tutte le pagine di wikipedia riferite alla varie maratone indicate nella lista Marathons\n",
    "    url = f\"https://en.wikipedia.org/wiki/{marathon}\"\n",
    "    tables= pd.read_html(url, attrs={'class':'wikitable'})\n",
    "    \n",
    "    df = pd.concat([pd.DataFrame(table) for table in tables[:2]]) #Limito l'importazione nel dataframe alle prime 2 tabelle, ovver quelle dei risultati maschili e femminili\n",
    "    row1 = len(tables[0].index) #Valuta la lunghezza di entrambe le tabelle per poter inserire il numero adatto di voci \"Gender\"\n",
    "    row2 = len(tables[1].index)\n",
    "        \n",
    "    df['Position'] = df.index + 1 #Poichè alcune posizioni contengono caratteri speciali definisco le posizioni come indice + 1 \n",
    "    \n",
    "    year = dt.datetime.strptime(marathon.split(\"_\")[0], \"%Y\").year # Estrapolo l'anno della maratona dalla lista delle competizioni\n",
    "    location = marathon.split(\"_\")[1]  # Estrapolo il luogo della maratona dalla lista delle competizioni\n",
    "\n",
    "    df.insert(0, 'Location', f\"{location}\") #Inserisco il luogo della maratona nella tabella\n",
    "    df.insert(1, 'Year', f\"{year}\") #Inserisco l'anno della maratona nella tabella\n",
    "    df.insert(2, 'Gender', ['Men']*row1 + ['Women']*row2) #Inserisco il sesso dell'atleta, utilizzando la variabile row per contare il numero esatto di atleti\n",
    "\n",
    "    df['Time'] = df['Time'].str.replace(r'[^\\d:]', '', regex=True) #Rimuovo eventuali caratteri non numerici dalla colonno \"Time\", ad escludione dei :\n",
    "    \n",
    "    df.to_csv(f'{marathon}.csv', sep=',', index=False) #Esporto il data frame in file csv separatore virgola"
   ]
  },
  {
   "cell_type": "code",
   "execution_count": null,
   "id": "8476e460-cbae-4092-87ac-6aa9878e9e77",
   "metadata": {},
   "outputs": [],
   "source": []
  }
 ],
 "metadata": {
  "kernelspec": {
   "display_name": "Python 3 (ipykernel)",
   "language": "python",
   "name": "python3"
  },
  "language_info": {
   "codemirror_mode": {
    "name": "ipython",
    "version": 3
   },
   "file_extension": ".py",
   "mimetype": "text/x-python",
   "name": "python",
   "nbconvert_exporter": "python",
   "pygments_lexer": "ipython3",
   "version": "3.11.5"
  }
 },
 "nbformat": 4,
 "nbformat_minor": 5
}
